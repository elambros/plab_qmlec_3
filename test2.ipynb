{
 "cells": [
  {
   "cell_type": "code",
   "execution_count": 1,
   "metadata": {},
   "outputs": [],
   "source": [
    "# Imports \n",
    "global N_atoms, atoms, atom_coordinates, STOnG, B, N\n",
    "import numpy as np\n",
    "from numpy import *\n",
    "import scipy\n",
    "from scipy.special import erf\n",
    "import hftools as hft"
   ]
  },
  {
   "cell_type": "code",
   "execution_count": 2,
   "metadata": {},
   "outputs": [],
   "source": [
    "import hftools as hft"
   ]
  },
  {
   "cell_type": "code",
   "execution_count": 3,
   "metadata": {},
   "outputs": [],
   "source": []
  },
  {
   "cell_type": "code",
   "execution_count": 13,
   "metadata": {},
   "outputs": [],
   "source": [
    "xyz='''2\n",
    "\n",
    "He 0 0 0\n",
    "H  0 0 1.4632'''"
   ]
  },
  {
   "cell_type": "code",
   "execution_count": 5,
   "metadata": {},
   "outputs": [],
   "source": [
    "N_atoms, atoms, atom_coordinates = hft.xyz_reader(xyz)"
   ]
  },
  {
   "cell_type": "code",
   "execution_count": 6,
   "metadata": {},
   "outputs": [],
   "source": [
    "from initialize import *"
   ]
  },
  {
   "cell_type": "code",
   "execution_count": 7,
   "metadata": {},
   "outputs": [],
   "source": [
    "\n",
    "\n",
    "STOnG = 3\n",
    "\n",
    "# Basis set size\n",
    "B = 0\n",
    "for atom in atoms:\n",
    "    B += max_quantum_number[atom]\n",
    "    \n",
    "# Other book-keeping\n",
    "\n",
    "# Number of electrons (Important!!)\n",
    "N = 2\n"
   ]
  },
  {
   "cell_type": "code",
   "execution_count": 8,
   "metadata": {},
   "outputs": [],
   "source": [
    "S,T,V,multi_electron_tensor = hft.calculate_integrals(zeta_dict, max_quantum_number, \\\n",
    "                                                      D, alpha, charge_dict, N_atoms, \\\n",
    "                                                      atoms, atom_coordinates, STOnG, B, N)\n",
    "\n",
    "X = hft.orthoganalize_basis(S)\n",
    "\n",
    "Hcore = T + V"
   ]
  },
  {
   "cell_type": "code",
   "execution_count": 12,
   "metadata": {},
   "outputs": [
    {
     "name": "stdout",
     "output_type": "stream",
     "text": [
      "iteration 1 Total SCF Energy 0.0 a.u.\n",
      "iteration 2 Total SCF Energy -4.141860256587707 a.u.\n",
      "iteration 3 Total SCF Energy -4.226488469192394 a.u.\n",
      "iteration 4 Total SCF Energy -4.227519478882532 a.u.\n",
      "iteration 5 Total SCF Energy -4.227525821517997 a.u.\n",
      "iteration 6 Total SCF Energy -4.227525857431003 a.u.\n",
      "\n",
      "\n",
      "STO3G Restricted Closed Shell HF algorithm took 6 iterations to converge\n",
      "\n",
      "\n",
      "The orbital energies are -1.5974477442856962 and -0.06166952037286738 Hartrees\n",
      "\n",
      "\n",
      "The orbital matrix is: \n",
      "\n",
      "[[-0.80191685  0.78226417]\n",
      " [-0.33680061 -1.0684443 ]]\n",
      "\n",
      "\n",
      "The density/bond order matrix is: \n",
      "\n",
      "[[1.28614127 0.54017217]\n",
      " [0.54017217 0.22686931]]\n"
     ]
    }
   ],
   "source": [
    "# Algorithm\n",
    "\n",
    "# Initial guess at P\n",
    "P = np.zeros((B,B))\n",
    "P_previous = np.zeros((B,B))\n",
    "P_list = []\n",
    "\n",
    "# Iterative process\n",
    "threshold = 100\n",
    "counter = 1\n",
    "while threshold > 10**-4:\n",
    "    \n",
    "    # Calculate Fock matrix with guess\n",
    "    G = np.zeros((B,B))\n",
    "    for i in range(B):\n",
    "        for j in range(B):\n",
    "            for x in range(B):\n",
    "                for y in range(B):\n",
    "                    G[i,j] += P[x,y]*(multi_electron_tensor[i,j,y,x]-0.5*multi_electron_tensor[i,x,y,j])    \n",
    "    Fock = Hcore + G\n",
    "\n",
    "\n",
    "    C, orbital_energies = hft.get_coeffs_and_eigenvalues(Fock,X)\n",
    "\n",
    "    # Form new P (note, we only sum over electron pairs - we DON'T sum\n",
    "    # over the entire basis set.\n",
    "    E0=0\n",
    "    for i in range(B):\n",
    "        for j in range(B): \n",
    "            E0 += P[i,j]*(Hcore[i,j] + Fock[i,j])\n",
    "    E0 = 0.5*E0\n",
    "    \n",
    "    print(\"iteration \"+str(counter) + \" Total SCF Energy \" +str(E0) + \" a.u.\")\n",
    "    \n",
    "    #\n",
    "    for i in range(B):\n",
    "        for j in range(B):\n",
    "            for a in range(int(N/2)):\n",
    "                P[i,j] = 2*C[i,a]*C[j,a]\n",
    "                \n",
    "                \n",
    "    P_list.append(P)\n",
    "\n",
    "    threshold = hft.SD_successive_density_matrix_elements(P_previous,P,B)\n",
    "    P_previous = P.copy()\n",
    "    counter +=1\n",
    "print('\\n')\n",
    "print('STO3G Restricted Closed Shell HF algorithm took {} iterations to converge'.format(len(P_list)))\n",
    "print('\\n')\n",
    "print('The orbital energies are {} and {} Hartrees'.format(orbital_energies[0],orbital_energies[1]))\n",
    "print('\\n')\n",
    "print(f'The orbital matrix is: \\n\\n{C}')\n",
    "print('\\n')\n",
    "print(f'The density/bond order matrix is: \\n\\n{P}')\n",
    "#print(C)"
   ]
  },
  {
   "cell_type": "code",
   "execution_count": null,
   "metadata": {},
   "outputs": [],
   "source": []
  }
 ],
 "metadata": {
  "kernelspec": {
   "display_name": "Python 3",
   "language": "python",
   "name": "python3"
  },
  "language_info": {
   "codemirror_mode": {
    "name": "ipython",
    "version": 3
   },
   "file_extension": ".py",
   "mimetype": "text/x-python",
   "name": "python",
   "nbconvert_exporter": "python",
   "pygments_lexer": "ipython3",
   "version": "3.8.3"
  }
 },
 "nbformat": 4,
 "nbformat_minor": 4
}
