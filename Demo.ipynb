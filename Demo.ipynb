{
 "cells": [
  {
   "cell_type": "code",
   "execution_count": 1,
   "metadata": {},
   "outputs": [],
   "source": [
    "# Imports \n",
    "global N_atoms, atoms, atom_coordinates, STOnG, B, N\n",
    "import numpy as np\n",
    "from numpy import *\n",
    "import scipy\n",
    "from scipy.special import erf\n",
    "import hftools as hft"
   ]
  },
  {
   "cell_type": "code",
   "execution_count": 2,
   "metadata": {},
   "outputs": [],
   "source": [
    "import hftools as hft"
   ]
  },
  {
   "cell_type": "code",
   "execution_count": null,
   "metadata": {},
   "outputs": [],
   "source": []
  },
  {
   "cell_type": "code",
   "execution_count": 3,
   "metadata": {},
   "outputs": [],
   "source": [
    "xyz='''2\n",
    "\n",
    "He 0 0 0\n",
    "H  0 0 1.4632'''"
   ]
  },
  {
   "cell_type": "code",
   "execution_count": 4,
   "metadata": {},
   "outputs": [],
   "source": [
    "N_atoms, atoms, atom_coordinates = hft.xyz_reader(xyz)"
   ]
  },
  {
   "cell_type": "code",
   "execution_count": 5,
   "metadata": {},
   "outputs": [],
   "source": [
    "from initialize import *"
   ]
  },
  {
   "cell_type": "code",
   "execution_count": 6,
   "metadata": {},
   "outputs": [],
   "source": [
    "\n",
    "\n",
    "STOnG = 3\n",
    "\n",
    "# Basis set size\n",
    "B = 0\n",
    "for atom in atoms:\n",
    "    B += max_quantum_number[atom]\n",
    "    \n",
    "# Other book-keeping\n",
    "\n",
    "# Number of electrons (Important!!)\n",
    "N = 2\n"
   ]
  },
  {
   "cell_type": "code",
   "execution_count": 7,
   "metadata": {},
   "outputs": [],
   "source": [
    "S,T,V,multi_electron_tensor,gcfl = hft.calculate_integrals(zeta_dict, max_quantum_number, \\\n",
    "                                                      D, alpha, charge_dict, N_atoms, \\\n",
    "                                                      atoms, atom_coordinates, STOnG, B, N)\n",
    "\n",
    "a1=gcfl[0]['He'][0]\n",
    "a2=gcfl[1]['H'][0]\n",
    "dvec=gcfl[0]['He'][1]\n",
    "\n",
    "X = hft.orthoganalize_basis(S)\n",
    "\n",
    "Hcore = T + V"
   ]
  },
  {
   "cell_type": "code",
   "execution_count": null,
   "metadata": {},
   "outputs": [],
   "source": []
  },
  {
   "cell_type": "code",
   "execution_count": null,
   "metadata": {},
   "outputs": [],
   "source": []
  },
  {
   "cell_type": "code",
   "execution_count": null,
   "metadata": {},
   "outputs": [],
   "source": []
  }
 ],
 "metadata": {
  "kernelspec": {
   "display_name": "Python 3",
   "language": "python",
   "name": "python3"
  },
  "language_info": {
   "codemirror_mode": {
    "name": "ipython",
    "version": 3
   },
   "file_extension": ".py",
   "mimetype": "text/x-python",
   "name": "python",
   "nbconvert_exporter": "python",
   "pygments_lexer": "ipython3",
   "version": "3.8.3"
  }
 },
 "nbformat": 4,
 "nbformat_minor": 4
}
